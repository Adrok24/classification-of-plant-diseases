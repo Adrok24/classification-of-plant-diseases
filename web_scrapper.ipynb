{
  "nbformat": 4,
  "nbformat_minor": 0,
  "metadata": {
    "colab": {
      "name": "Untitled5.ipynb",
      "provenance": [],
      "authorship_tag": "ABX9TyM4I9lzJIRyiqd69xXFdJIH",
      "include_colab_link": true
    },
    "kernelspec": {
      "name": "python3",
      "display_name": "Python 3"
    }
  },
  "cells": [
    {
      "cell_type": "markdown",
      "metadata": {
        "id": "view-in-github",
        "colab_type": "text"
      },
      "source": [
        "<a href=\"https://colab.research.google.com/github/Adrok24/classification-of-plant-diseases/blob/main/web_scrapper.ipynb\" target=\"_parent\"><img src=\"https://colab.research.google.com/assets/colab-badge.svg\" alt=\"Open In Colab\"/></a>"
      ]
    },
    {
      "cell_type": "code",
      "metadata": {
        "colab": {
          "base_uri": "https://localhost:8080/"
        },
        "id": "KhKKb1OpSXBq",
        "outputId": "20d0968a-a2a2-439b-d926-7f1ddd2a1fc4"
      },
      "source": [
        "from tensorflow.keras.models import load_model\n",
        "from zipfile import ZipFile \n",
        "import os\n",
        "from google.colab import files\n",
        "from google.colab import drive\n",
        "drive.mount('/content/drive')\n",
        "#files.download('file.csv')\n",
        "\n"
      ],
      "execution_count": 37,
      "outputs": [
        {
          "output_type": "stream",
          "text": [
            "Drive already mounted at /content/drive; to attempt to forcibly remount, call drive.mount(\"/content/drive\", force_remount=True).\n"
          ],
          "name": "stdout"
        }
      ]
    },
    {
      "cell_type": "markdown",
      "metadata": {
        "id": "U-NhoUz_ne12"
      },
      "source": [
        "Web Scrapper"
      ]
    },
    {
      "cell_type": "code",
      "metadata": {
        "id": "ijCty7w9kGpV"
      },
      "source": [
        "!pip install kora -q\n",
        "from kora.selenium import wd\n"
      ],
      "execution_count": 23,
      "outputs": []
    },
    {
      "cell_type": "code",
      "metadata": {
        "id": "wZtI-qmZXmPp"
      },
      "source": [
        "def fetch_image_urls(query:str, max_links_to_fetch:int, wd:webdriver, sleep_between_interactions:int=1):\n",
        "    def scroll_to_end(wd):\n",
        "        wd.execute_script(\"window.scrollTo(0, document.body.scrollHeight);\")\n",
        "        time.sleep(sleep_between_interactions)    \n",
        "    \n",
        "    # build the google query\n",
        "    search_url = \"https://www.google.com/search?safe=off&site=&tbm=isch&source=hp&q={q}&oq={q}&gs_l=img\"\n",
        "\n",
        "    # load the page\n",
        "    wd.get(search_url.format(q=query))\n",
        "\n",
        "    image_urls = set()\n",
        "    image_count = 0\n",
        "    results_start = 0\n",
        "    while image_count < max_links_to_fetch:\n",
        "        scroll_to_end(wd)\n",
        "\n",
        "        # get all image thumbnail results\n",
        "        thumbnail_results = wd.find_elements_by_css_selector(\"img.Q4LuWd\")\n",
        "        number_results = len(thumbnail_results)\n",
        "        \n",
        "        print(f\"Found: {number_results} search results. Extracting links from {results_start}:{number_results}\")\n",
        "        \n",
        "        for img in thumbnail_results[results_start:number_results]:\n",
        "            # try to click every thumbnail such that we can get the real image behind it\n",
        "            try:\n",
        "                img.click()\n",
        "                time.sleep(sleep_between_interactions)\n",
        "            except Exception:\n",
        "                continue\n",
        "\n",
        "            # extract image urls    \n",
        "            actual_images = wd.find_elements_by_css_selector('img.n3VNCb')\n",
        "            for actual_image in actual_images:\n",
        "                if actual_image.get_attribute('src') and 'http' in actual_image.get_attribute('src'):\n",
        "                    image_urls.add(actual_image.get_attribute('src'))\n",
        "\n",
        "            image_count = len(image_urls)\n",
        "\n",
        "            if len(image_urls) >= max_links_to_fetch:\n",
        "                print(f\"Found: {len(image_urls)} image links, done!\")\n",
        "                break\n",
        "        else:\n",
        "            print(\"Found:\", len(image_urls), \"image links, looking for more ...\")\n",
        "            time.sleep(30)\n",
        "            return\n",
        "            load_more_button = wd.find_element_by_css_selector(\".mye4qd\")\n",
        "            if load_more_button:\n",
        "                wd.execute_script(\"document.querySelector('.mye4qd').click();\")\n",
        "\n",
        "        # move the result startpoint further down\n",
        "        results_start = len(thumbnail_results)\n",
        "\n",
        "    return image_urls"
      ],
      "execution_count": 11,
      "outputs": []
    },
    {
      "cell_type": "code",
      "metadata": {
        "id": "2CTY2JXOYLek"
      },
      "source": [
        "def persist_image(folder_path:str,url:str):\n",
        "    try:\n",
        "        image_content = requests.get(url).content\n",
        "\n",
        "    except Exception as e:\n",
        "        print(f\"ERROR - Could not download {url} - {e}\")\n",
        "\n",
        "    try:\n",
        "        image_file = io.BytesIO(image_content)\n",
        "        image = Image.open(image_file).convert('RGB')\n",
        "        file_path = os.path.join(folder_path,hashlib.sha1(image_content).hexdigest()[:10] + '.jpg')\n",
        "        with open(file_path, 'wb') as f:\n",
        "            image.save(f, \"JPEG\", quality=85)\n",
        "        print(f\"SUCCESS - saved {url} - as {file_path}\")\n",
        "    except Exception as e:\n",
        "        print(f\"ERROR - Could not save {url} - {e}\")"
      ],
      "execution_count": 12,
      "outputs": []
    },
    {
      "cell_type": "code",
      "metadata": {
        "id": "vboihG52YZKV"
      },
      "source": [
        "def search_and_download(search_term:str,wd,target_path='./images',number_images=5):\n",
        "    target_folder = os.path.join(target_path,'_'.join(search_term.lower().split(' ')))\n",
        "\n",
        "    if not os.path.exists(target_folder):\n",
        "        os.makedirs(target_folder)\n",
        "\n",
        "    res = fetch_image_urls(search_term, number_images, wd=wd, sleep_between_interactions=0.5)\n",
        "        \n",
        "    for elem in res:\n",
        "        persist_image(target_folder,elem)"
      ],
      "execution_count": 18,
      "outputs": []
    },
    {
      "cell_type": "code",
      "metadata": {
        "id": "Mu90y0VDa7kx"
      },
      "source": [
        ""
      ],
      "execution_count": 13,
      "outputs": []
    },
    {
      "cell_type": "markdown",
      "metadata": {
        "id": "gD0DbefTnN0X"
      },
      "source": [
        "Instanciamos el web scrapper para probar, funciona bien pero a veces se baja imagenes de hojas enfermas entre las sanas o con patologias distintas."
      ]
    },
    {
      "cell_type": "code",
      "metadata": {
        "colab": {
          "base_uri": "https://localhost:8080/"
        },
        "id": "wZTEJRuKYgcz",
        "outputId": "92d325bc-c2ac-4a36-98bf-432d412ed31a"
      },
      "source": [
        "import time\n",
        "import requests, io, hashlib\n",
        "from PIL import Image\n",
        "\n",
        "\n",
        "search_and_download('tomato black dots leaf', wd, 'drive/My Drive/tomato_black_dots', number_images=10)"
      ],
      "execution_count": 35,
      "outputs": [
        {
          "output_type": "stream",
          "text": [
            "Found: 100 search results. Extracting links from 0:100\n",
            "Found: 10 image links, done!\n",
            "SUCCESS - saved https://bloximages.chicago2.vip.townnews.com/journalstar.com/content/tncms/assets/v3/editorial/b/e1/be16edc4-71d7-5ff3-be84-da417edd8b96/5592c2e0b6df8.image.jpg - as drive/My Drive/tomato_black_dots/tomato_black_dots_leaf/91ac18f67a.jpg\n",
            "SUCCESS - saved https://imagesvc.meredithcorp.io/v3/mm/image?url=https%3A%2F%2Fstatic.onecms.io%2Fwp-content%2Fuploads%2Fsites%2F37%2F2020%2F04%2F22%2Fseptoria-spot-tomato-plant-ea2ab44d.jpg - as drive/My Drive/tomato_black_dots/tomato_black_dots_leaf/2d3a66d22a.jpg\n",
            "SUCCESS - saved https://images.saferbrand.com/is/image/woodstream/sb_us_t_12_septor_Flickr-reuse-Scot-Nelson3?qlt=75 - as drive/My Drive/tomato_black_dots/tomato_black_dots_leaf/4c8a23e731.jpg\n",
            "SUCCESS - saved https://www.gardeningknowhow.com/wp-content/uploads/2016/12/tomato-black-stem.jpg - as drive/My Drive/tomato_black_dots/tomato_black_dots_leaf/7e12729778.jpg\n",
            "SUCCESS - saved https://apps.extension.umn.edu/garden/diagnose/plant/images/tomato/insects/fleabeetles1_600px.jpg - as drive/My Drive/tomato_black_dots/tomato_black_dots_leaf/2384ab6647.jpg\n",
            "SUCCESS - saved https://extension.umn.edu/sites/extension.umn.edu/files/styles/caption_medium/public/tomato-septoria-leaf-spot-grabowski.jpg?itok=iRHt-tr5 - as drive/My Drive/tomato_black_dots/tomato_black_dots_leaf/82367778f4.jpg\n",
            "SUCCESS - saved https://www.thespruce.com/thmb/ge-h8rhlT1KY5jMCL3EGTAzcyOs=/2048x1536/smart/filters:no_upscale()/leafspot-5aba8283642dca003687f6fa.jpg - as drive/My Drive/tomato_black_dots/tomato_black_dots_leaf/28ba9c61d1.jpg\n",
            "SUCCESS - saved https://encrypted-tbn0.gstatic.com/images?q=tbn:ANd9GcSuf7O4Ob6qy9b7qW-jlQPcB5vv2VjYZ_jEbg&usqp=CAU - as drive/My Drive/tomato_black_dots/tomato_black_dots_leaf/f2cdf5df83.jpg\n",
            "SUCCESS - saved https://bloximages.chicago2.vip.townnews.com/journalstar.com/content/tncms/assets/v3/editorial/e/8f/e8f778dd-41d2-5b3e-afe5-4c854a074b6b/5592c2e0df906.image.jpg?crop=500%2C500%2C0%2C83&resize=1200%2C1200&order=crop%2Cresize - as drive/My Drive/tomato_black_dots/tomato_black_dots_leaf/63f70c6806.jpg\n",
            "SUCCESS - saved https://images.saferbrand.com/is/image/woodstream/sb_us_t_14_vet_VW-flickr-pmocek?qlt=75 - as drive/My Drive/tomato_black_dots/tomato_black_dots_leaf/1578e8faea.jpg\n"
          ],
          "name": "stdout"
        }
      ]
    }
  ]
}